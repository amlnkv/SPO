{
  "nbformat": 4,
  "nbformat_minor": 0,
  "metadata": {
    "colab": {
      "name": "lab4.ipynb",
      "provenance": [],
      "collapsed_sections": [],
      "toc_visible": true
    },
    "kernelspec": {
      "name": "python3",
      "display_name": "Python 3"
    }
  },
  "cells": [
    {
      "cell_type": "markdown",
      "metadata": {
        "id": "PCGjmdAM80zl",
        "colab_type": "text"
      },
      "source": [
        "Практическая работа №4. Визуализация данных, полученных в практической работе №3 \n",
        "\n",
        "---\n",
        "\n",
        "Устанавливаем и подключаем модуль geopandas"
      ]
    },
    {
      "cell_type": "code",
      "metadata": {
        "id": "AJ8Xx9OtO9sB",
        "colab_type": "code",
        "outputId": "99a19526-1f6c-4f12-e63e-e6c4bae6ed25",
        "colab": {
          "base_uri": "https://localhost:8080/",
          "height": 457
        }
      },
      "source": [
        "!pip install geopandas\n",
        "import geopandas as gpd"
      ],
      "execution_count": 0,
      "outputs": [
        {
          "output_type": "stream",
          "text": [
            "Collecting geopandas\n",
            "\u001b[?25l  Downloading https://files.pythonhosted.org/packages/5b/0c/e6c99e561b03482220f00443f610ccf4dce9b50f4b1093d735f93c6fc8c6/geopandas-0.6.2-py2.py3-none-any.whl (919kB)\n",
            "\u001b[K     |████████████████████████████████| 921kB 2.8MB/s \n",
            "\u001b[?25hCollecting pyproj\n",
            "\u001b[?25l  Downloading https://files.pythonhosted.org/packages/d6/70/eedc98cd52b86de24a1589c762612a98bea26cde649ffdd60c1db396cce8/pyproj-2.4.2.post1-cp36-cp36m-manylinux2010_x86_64.whl (10.1MB)\n",
            "\u001b[K     |████████████████████████████████| 10.1MB 39.0MB/s \n",
            "\u001b[?25hRequirement already satisfied: shapely in /usr/local/lib/python3.6/dist-packages (from geopandas) (1.6.4.post2)\n",
            "Collecting fiona\n",
            "\u001b[?25l  Downloading https://files.pythonhosted.org/packages/50/f7/9899f8a9a2e38601472fe1079ce5088f58833221c8b8507d8b5eafd5404a/Fiona-1.8.13-cp36-cp36m-manylinux1_x86_64.whl (11.8MB)\n",
            "\u001b[K     |████████████████████████████████| 11.8MB 200kB/s \n",
            "\u001b[?25hRequirement already satisfied: pandas>=0.23.0 in /usr/local/lib/python3.6/dist-packages (from geopandas) (0.25.3)\n",
            "Requirement already satisfied: attrs>=17 in /usr/local/lib/python3.6/dist-packages (from fiona->geopandas) (19.3.0)\n",
            "Requirement already satisfied: six>=1.7 in /usr/local/lib/python3.6/dist-packages (from fiona->geopandas) (1.12.0)\n",
            "Collecting cligj>=0.5\n",
            "  Downloading https://files.pythonhosted.org/packages/e4/be/30a58b4b0733850280d01f8bd132591b4668ed5c7046761098d665ac2174/cligj-0.5.0-py3-none-any.whl\n",
            "Requirement already satisfied: click<8,>=4.0 in /usr/local/lib/python3.6/dist-packages (from fiona->geopandas) (7.0)\n",
            "Collecting click-plugins>=1.0\n",
            "  Downloading https://files.pythonhosted.org/packages/e9/da/824b92d9942f4e472702488857914bdd50f73021efea15b4cad9aca8ecef/click_plugins-1.1.1-py2.py3-none-any.whl\n",
            "Collecting munch\n",
            "  Downloading https://files.pythonhosted.org/packages/cc/ab/85d8da5c9a45e072301beb37ad7f833cd344e04c817d97e0cc75681d248f/munch-2.5.0-py2.py3-none-any.whl\n",
            "Requirement already satisfied: numpy>=1.13.3 in /usr/local/lib/python3.6/dist-packages (from pandas>=0.23.0->geopandas) (1.17.4)\n",
            "Requirement already satisfied: pytz>=2017.2 in /usr/local/lib/python3.6/dist-packages (from pandas>=0.23.0->geopandas) (2018.9)\n",
            "Requirement already satisfied: python-dateutil>=2.6.1 in /usr/local/lib/python3.6/dist-packages (from pandas>=0.23.0->geopandas) (2.6.1)\n",
            "Installing collected packages: pyproj, cligj, click-plugins, munch, fiona, geopandas\n",
            "Successfully installed click-plugins-1.1.1 cligj-0.5.0 fiona-1.8.13 geopandas-0.6.2 munch-2.5.0 pyproj-2.4.2.post1\n"
          ],
          "name": "stdout"
        }
      ]
    },
    {
      "cell_type": "markdown",
      "metadata": {
        "id": "_zdm0iJG9JK8",
        "colab_type": "text"
      },
      "source": [
        "Выгрузка файла с координатами округов СПб"
      ]
    },
    {
      "cell_type": "code",
      "metadata": {
        "id": "4odRrpvSRba-",
        "colab_type": "code",
        "outputId": "1b3f2ba8-691f-4e70-a36b-432eb1bf2caa",
        "colab": {
          "resources": {
            "http://localhost:8080/nbextensions/google.colab/files.js": {
              "data": "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",
              "ok": true,
              "headers": [
                [
                  "content-type",
                  "application/javascript"
                ]
              ],
              "status": 200,
              "status_text": ""
            }
          },
          "base_uri": "https://localhost:8080/",
          "height": 74
        }
      },
      "source": [
        "from google.colab import files\n",
        "uploaded = files.upload()\n"
      ],
      "execution_count": 0,
      "outputs": [
        {
          "output_type": "display_data",
          "data": {
            "text/html": [
              "\n",
              "     <input type=\"file\" id=\"files-bd2c65c6-cd25-4942-ab4c-5c749e966b84\" name=\"files[]\" multiple disabled />\n",
              "     <output id=\"result-bd2c65c6-cd25-4942-ab4c-5c749e966b84\">\n",
              "      Upload widget is only available when the cell has been executed in the\n",
              "      current browser session. Please rerun this cell to enable.\n",
              "      </output>\n",
              "      <script src=\"/nbextensions/google.colab/files.js\"></script> "
            ],
            "text/plain": [
              "<IPython.core.display.HTML object>"
            ]
          },
          "metadata": {
            "tags": []
          }
        },
        {
          "output_type": "stream",
          "text": [
            "Saving admin_level_8_geojson.geojson to admin_level_8_geojson.geojson\n"
          ],
          "name": "stdout"
        }
      ]
    },
    {
      "cell_type": "code",
      "metadata": {
        "id": "TbDwUTXGPbrT",
        "colab_type": "code",
        "colab": {}
      },
      "source": [
        "%matplotlib inline\n",
        "mo = gpd.read_file('admin_level_8_geojson.geojson')"
      ],
      "execution_count": 0,
      "outputs": []
    },
    {
      "cell_type": "markdown",
      "metadata": {
        "id": "nYBeYnt59gUY",
        "colab_type": "text"
      },
      "source": [
        "Делаем выборку координат для округов Невского района "
      ]
    },
    {
      "cell_type": "code",
      "metadata": {
        "id": "wlot5Fl1ayek",
        "colab_type": "code",
        "outputId": "a8166cbe-43f8-4ee6-ef90-511fc89fa4d2",
        "colab": {
          "base_uri": "https://localhost:8080/",
          "height": 314
        }
      },
      "source": [
        "nevsky = mo[(mo.name == 'округ № 54') | (mo.name == 'Ивановский округ') | (mo.name == 'Народный округ') | \\\n",
        "       (mo.name == 'округ Невская застава') | (mo.name == 'Невский округ') | (mo.name == 'Обуховский округ') | \\\n",
        "        (mo.name == 'округ Оккервиль') | (mo.name == 'округ Правобережный') | (mo.name == 'округ Рыбацкое')] \n",
        "nevsky = nevsky[['name', 'geometry']]\n",
        "nevsky_win = nevsky\n",
        "nevsky_nas = nevsky\n",
        "nevsky"
      ],
      "execution_count": 0,
      "outputs": [
        {
          "output_type": "execute_result",
          "data": {
            "text/html": [
              "<div>\n",
              "<style scoped>\n",
              "    .dataframe tbody tr th:only-of-type {\n",
              "        vertical-align: middle;\n",
              "    }\n",
              "\n",
              "    .dataframe tbody tr th {\n",
              "        vertical-align: top;\n",
              "    }\n",
              "\n",
              "    .dataframe thead th {\n",
              "        text-align: right;\n",
              "    }\n",
              "</style>\n",
              "<table border=\"1\" class=\"dataframe\">\n",
              "  <thead>\n",
              "    <tr style=\"text-align: right;\">\n",
              "      <th></th>\n",
              "      <th>name</th>\n",
              "      <th>geometry</th>\n",
              "    </tr>\n",
              "  </thead>\n",
              "  <tbody>\n",
              "    <tr>\n",
              "      <th>3792</th>\n",
              "      <td>округ Оккервиль</td>\n",
              "      <td>MULTIPOLYGON (((30.50292 59.92550, 30.50168 59...</td>\n",
              "    </tr>\n",
              "    <tr>\n",
              "      <th>3793</th>\n",
              "      <td>округ Правобережный</td>\n",
              "      <td>MULTIPOLYGON (((30.50441 59.93492, 30.50298 59...</td>\n",
              "    </tr>\n",
              "    <tr>\n",
              "      <th>3794</th>\n",
              "      <td>Народный округ</td>\n",
              "      <td>MULTIPOLYGON (((30.51638 59.86259, 30.50868 59...</td>\n",
              "    </tr>\n",
              "    <tr>\n",
              "      <th>7739</th>\n",
              "      <td>округ Невская застава</td>\n",
              "      <td>MULTIPOLYGON (((30.44403 59.89344, 30.44072 59...</td>\n",
              "    </tr>\n",
              "    <tr>\n",
              "      <th>7984</th>\n",
              "      <td>Ивановский округ</td>\n",
              "      <td>MULTIPOLYGON (((30.45286 59.87796, 30.45209 59...</td>\n",
              "    </tr>\n",
              "    <tr>\n",
              "      <th>7985</th>\n",
              "      <td>Обуховский округ</td>\n",
              "      <td>MULTIPOLYGON (((30.48088 59.85410, 30.47932 59...</td>\n",
              "    </tr>\n",
              "    <tr>\n",
              "      <th>8320</th>\n",
              "      <td>округ Рыбацкое</td>\n",
              "      <td>MULTIPOLYGON (((30.56730 59.82404, 30.56324 59...</td>\n",
              "    </tr>\n",
              "    <tr>\n",
              "      <th>10745</th>\n",
              "      <td>округ № 54</td>\n",
              "      <td>MULTIPOLYGON (((30.49893 59.91053, 30.49628 59...</td>\n",
              "    </tr>\n",
              "    <tr>\n",
              "      <th>10746</th>\n",
              "      <td>Невский округ</td>\n",
              "      <td>MULTIPOLYGON (((30.48267 59.90672, 30.45963 59...</td>\n",
              "    </tr>\n",
              "  </tbody>\n",
              "</table>\n",
              "</div>"
            ],
            "text/plain": [
              "                        name                                           geometry\n",
              "3792         округ Оккервиль  MULTIPOLYGON (((30.50292 59.92550, 30.50168 59...\n",
              "3793     округ Правобережный  MULTIPOLYGON (((30.50441 59.93492, 30.50298 59...\n",
              "3794          Народный округ  MULTIPOLYGON (((30.51638 59.86259, 30.50868 59...\n",
              "7739   округ Невская застава  MULTIPOLYGON (((30.44403 59.89344, 30.44072 59...\n",
              "7984        Ивановский округ  MULTIPOLYGON (((30.45286 59.87796, 30.45209 59...\n",
              "7985        Обуховский округ  MULTIPOLYGON (((30.48088 59.85410, 30.47932 59...\n",
              "8320          округ Рыбацкое  MULTIPOLYGON (((30.56730 59.82404, 30.56324 59...\n",
              "10745             округ № 54  MULTIPOLYGON (((30.49893 59.91053, 30.49628 59...\n",
              "10746          Невский округ  MULTIPOLYGON (((30.48267 59.90672, 30.45963 59..."
            ]
          },
          "metadata": {
            "tags": []
          },
          "execution_count": 7
        }
      ]
    },
    {
      "cell_type": "markdown",
      "metadata": {
        "id": "BnIMk4Ht9wu1",
        "colab_type": "text"
      },
      "source": [
        "Сбор данных по статистике избирательных комиссий Невского района"
      ]
    },
    {
      "cell_type": "code",
      "metadata": {
        "id": "lrSXbVKNbtr8",
        "colab_type": "code",
        "colab": {}
      },
      "source": [
        "import pandas as pd\n",
        "import requests"
      ],
      "execution_count": 0,
      "outputs": []
    },
    {
      "cell_type": "code",
      "metadata": {
        "id": "-A89iVEscVEz",
        "colab_type": "code",
        "outputId": "6b790a74-7a4d-4ec1-8583-784530393bfb",
        "colab": {
          "base_uri": "https://localhost:8080/",
          "height": 286
        }
      },
      "source": [
        "url1 = \"http://www.st-petersburg.vybory.izbirkom.ru/region/region/st-petersburg?action=show&tvd=27820001217417&vrn=27820001217413&region=78&global=&sub_region=78&prver=0&pronetvd=null&vibid=27820001217423&type=222\"\n",
        "url2 = \"http://www.st-petersburg.vybory.izbirkom.ru/region/region/st-petersburg?action=show&tvd=27820001217417&vrn=27820001217413&region=78&global=&sub_region=78&prver=0&pronetvd=null&vibid=27820001217442&type=222\"\n",
        "def parser(url):\n",
        "  response = requests.get(url)\n",
        "  uik = pd.read_html(url, encoding='cp1251', header = 0)[7]\n",
        "  uik.drop([1],inplace = True)\n",
        "  for i in range(uik.shape[1]): \n",
        "    uik.iloc[1,i] = int(uik.iloc[1,i]) + int(uik.iloc[2,i]) \n",
        "    for j in range(3):\n",
        "      uik.iloc[(11+j),i] = (uik.iloc[(11+j),i]).split()[1] \n",
        "  uik.drop([int(k) for k in range(3,12)], inplace = True)\n",
        "  return(uik)\n",
        "    \n",
        "uik5 = parser(url1)\n",
        "uik24 = parser(url2)\n",
        "uik24.drop(uik24.columns[[61,62,63,64,65,66,67,68,69,70]], axis=1, inplace=True)\n",
        "print(uik5)\n",
        "print(uik24)\n"
      ],
      "execution_count": 0,
      "outputs": [
        {
          "output_type": "stream",
          "text": [
            "   УИК №1422 УИК №1423 УИК №1424  ... УИК №1538 УИК №1539 УИК №1540\n",
            "0       1797      1945      1814  ...      1875      1022      1114\n",
            "2        484       505       321  ...       574      1006      1096\n",
            "12    11.78%    11.29%    14.02%  ...    24.56%     6.67%     7.48%\n",
            "13    69.63%    69.90%    70.09%  ...    39.37%    84.16%    75.00%\n",
            "14    15.91%    15.25%    14.02%  ...    33.10%     8.86%    15.78%\n",
            "\n",
            "[5 rows x 119 columns]\n",
            "   УИК №1545 УИК №1546 УИК №1547  ... УИК №1603 УИК №1604 УИК №1605\n",
            "0       2041      1916      1855  ...      2271      2223      3026\n",
            "2        705       484       505  ...       549       558       603\n",
            "12    22.70%    16.88%    19.88%  ...     5.83%     6.81%     3.98%\n",
            "13    51.21%    59.17%    69.58%  ...    90.35%    81.36%    81.43%\n",
            "14    22.55%    21.46%     7.75%  ...     3.83%     9.50%    12.27%\n",
            "\n",
            "[5 rows x 61 columns]\n"
          ],
          "name": "stdout"
        }
      ]
    },
    {
      "cell_type": "markdown",
      "metadata": {
        "id": "mHGg7jbo-IPF",
        "colab_type": "text"
      },
      "source": [
        "Подсчет статистики явки по избирательным комиссиям и распределение голосов по кандидатам. Сбор данных по населению округов Невского района."
      ]
    },
    {
      "cell_type": "code",
      "metadata": {
        "id": "n4Z1350KcrOW",
        "colab_type": "code",
        "outputId": "ce6136c3-1a40-4793-9b13-acf5ed88d8a4",
        "colab": {
          "base_uri": "https://localhost:8080/",
          "height": 34
        }
      },
      "source": [
        "proc_ap = []\n",
        "proc_ap1 = []\n",
        "proc_ap2 = []\n",
        "nasel = []\n",
        "\n",
        "\n",
        "for i in range(uik5.shape[1]): \n",
        "    proc_ap1.append((int(uik5.iloc[1, i])/(int(uik5.iloc[0,i])))*100)\n",
        "    nasel.append(int(uik5.iloc[0,i]))\n",
        "\n",
        "\n",
        "for i in range(uik24.shape[1]):\n",
        "    proc_ap2.append((int(uik24.iloc[1, i])/(int(uik24.iloc[0,i])))*100)\n",
        "    nasel.append(int(uik24.iloc[0,i]))\n",
        "\n",
        " \n",
        "proc_ap=proc_ap1+proc_ap2\n",
        "\n",
        "print(len(proc_ap))\n",
        "\n",
        "proc_Amosov = []\n",
        "proc_Beglov = []\n",
        "proc_Tikhonova = []\n",
        "ap = []\n",
        "\n",
        "for i in range(uik5.shape[1]):\n",
        "    proc_Amosov.append(float(uik5.iloc[2, i].split(\"%\")[0]))\n",
        "    proc_Beglov.append(float(uik5.iloc[3, i].split(\"%\")[0]))\n",
        "    proc_Tikhonova.append(float(uik5.iloc[4, i].split(\"%\")[0]))\n",
        "    ap.append(int(uik5.iloc[0,i]))\n",
        "    \n",
        "for i in range(uik24.shape[1]):\n",
        "    proc_Amosov.append(float(uik24.iloc[2, i].split(\"%\")[0]))\n",
        "    proc_Beglov.append(float(uik24.iloc[3, i].split(\"%\")[0]))\n",
        "    proc_Tikhonova.append(float(uik24.iloc[4, i].split(\"%\")[0]))\n",
        "    ap.append(int(uik24.iloc[0,i]))"
      ],
      "execution_count": 0,
      "outputs": [
        {
          "output_type": "stream",
          "text": [
            "180\n"
          ],
          "name": "stdout"
        }
      ]
    },
    {
      "cell_type": "markdown",
      "metadata": {
        "id": "BtLTaa_e-rBw",
        "colab_type": "text"
      },
      "source": [
        "Разделяем данные района по округам, собираем информацию по населению, победителю и проценту явки в отдельных округах. \n"
      ]
    },
    {
      "cell_type": "code",
      "metadata": {
        "id": "42c-IFYjdTdr",
        "colab_type": "code",
        "outputId": "e3232b2d-542d-41da-9681-6736e8955414",
        "colab": {
          "base_uri": "https://localhost:8080/",
          "height": 67
        }
      },
      "source": [
        "nev_procent_appearence = []\n",
        "winner_okrug = []\n",
        "population = []\n",
        "\n",
        "def po_okrugam(a,b,c,d):\n",
        "  appearence_okrug = 0\n",
        "  okrug = 0\n",
        "  okrug_sum_Amosov=0\n",
        "  okrug_sum_Beglov=0\n",
        "  okrug_sum_Tikhonova=0\n",
        "  okrug_popul=0\n",
        "  if (d>0):\n",
        "    for i in range(c,d):\n",
        "      appearence_okrug += proc_ap[i] \n",
        "      okrug += 1\n",
        "      okrug_popul += nasel[i] \n",
        "      if (proc_Amosov[i]>proc_Beglov[i]) & (proc_Amosov[i]>proc_Tikhonova[i]):\n",
        "        okrug_sum_Amosov += 1\n",
        "      if (proc_Beglov[i]>proc_Amosov[i]) & (proc_Beglov[i]>proc_Tikhonova[i]):  \n",
        "        okrug_sum_Beglov += 1\n",
        "      if (proc_Tikhonova[i]>proc_Beglov[i]) & (proc_Tikhonova[i]>proc_Amosov[i]):  \n",
        "        okrug_sum_Tikhonova += 1\n",
        "  for i in range(a,b):\n",
        "    appearence_okrug += proc_ap[i] \n",
        "    okrug += 1\n",
        "    okrug_popul += nasel[i] \n",
        "    if (proc_Amosov[i]>proc_Beglov[i]) & (proc_Amosov[i]>proc_Tikhonova[i]):\n",
        "      okrug_sum_Amosov += 1\n",
        "    if (proc_Beglov[i]>proc_Amosov[i]) & (proc_Beglov[i]>proc_Tikhonova[i]):  \n",
        "      okrug_sum_Beglov += 1\n",
        "    if (proc_Tikhonova[i]>proc_Beglov[i]) & (proc_Tikhonova[i]>proc_Amosov[i]):  \n",
        "      okrug_sum_Tikhonova += 1\n",
        "  if (okrug_sum_Amosov > okrug_sum_Beglov) & (okrug_sum_Amosov > okrug_sum_Tikhonova):\n",
        "    winner_okrug.append('Амосов')\n",
        "  if (okrug_sum_Beglov > okrug_sum_Amosov) & (okrug_sum_Beglov > okrug_sum_Tikhonova):\n",
        "    winner_okrug.append('Беглов')\n",
        "  if (okrug_sum_Tikhonova > okrug_sum_Beglov) & (okrug_sum_Tikhonova > okrug_sum_Amosov):\n",
        "    winner_okrug.append('Тихонова') \n",
        "  population.append(okrug_popul)  \n",
        "  nev_procent_appearence.append(int(appearence_okrug / okrug))\n",
        "\n",
        "\n",
        "     \n",
        "po_okrugam(66,86,0,0)     \n",
        "po_okrugam(86,111,113,115) \n",
        "po_okrugam(0,21,111,113) \n",
        "po_okrugam(119,131,0,0) \n",
        "po_okrugam(131,143,0,0)  \n",
        "po_okrugam(143,160,0,0) \n",
        "po_okrugam(160,180,0,0)    \n",
        "po_okrugam(21,44,0,0)\n",
        "po_okrugam(44,66,115,119)      \n",
        "print(nev_procent_appearence)\n",
        "print(winner_okrug)\n",
        "print(population)  "
      ],
      "execution_count": 0,
      "outputs": [
        {
          "output_type": "stream",
          "text": [
            "[27, 29, 24, 27, 26, 24, 25, 25, 30]\n",
            "['Беглов', 'Беглов', 'Беглов', 'Беглов', 'Беглов', 'Беглов', 'Беглов', 'Беглов', 'Беглов']\n",
            "[42600, 61793, 48779, 21455, 20396, 35243, 46261, 47501, 54741]\n"
          ],
          "name": "stdout"
        }
      ]
    },
    {
      "cell_type": "markdown",
      "metadata": {
        "id": "AQUtK8B0_wKw",
        "colab_type": "text"
      },
      "source": [
        "# Визуализация округов Невского района на карте\n"
      ]
    },
    {
      "cell_type": "code",
      "metadata": {
        "id": "53x97F66t04M",
        "colab_type": "code",
        "outputId": "41397d39-0095-47d3-c16c-4a41364c6fde",
        "colab": {
          "base_uri": "https://localhost:8080/",
          "height": 486
        }
      },
      "source": [
        "nevsky_map = gpd.GeoDataFrame(nevsky)\n",
        "nevsky_map.plot(column = 'name',  cmap='summer', legend=True, figsize=[12,12])"
      ],
      "execution_count": 0,
      "outputs": [
        {
          "output_type": "execute_result",
          "data": {
            "text/plain": [
              "<matplotlib.axes._subplots.AxesSubplot at 0x7f495d74b278>"
            ]
          },
          "metadata": {
            "tags": []
          },
          "execution_count": 35
        },
        {
          "output_type": "display_data",
          "data": {
            "image/png": "[encoded data removed]",
            "text/plain": [
              "<Figure size 864x864 with 1 Axes>"
            ]
          },
          "metadata": {
            "tags": []
          }
        }
      ]
    },
    {
      "cell_type": "markdown",
      "metadata": {
        "id": "_N0ka0zsACEq",
        "colab_type": "text"
      },
      "source": [
        "Составляем таблицу с данными о количестве населения в округах, визуализируем на карте."
      ]
    },
    {
      "cell_type": "code",
      "metadata": {
        "id": "hWAcivF107JI",
        "colab_type": "code",
        "outputId": "c207da82-cefa-455e-ad7d-d61e810bc4db",
        "colab": {
          "base_uri": "https://localhost:8080/",
          "height": 314
        }
      },
      "source": [
        "ind1 = ['3792', '3793', '3794', '7739', '7984', '7985', '8320', '10745', '10746']\n",
        "nevsky_ = pd.DataFrame(data={'Население' :population}, index = ind1)\n",
        "nevsky_nas = pd.merge(nevsky_nas, nevsky_, on=nevsky_nas.index, how='inner')\n",
        "nevsky_nas"
      ],
      "execution_count": 0,
      "outputs": [
        {
          "output_type": "execute_result",
          "data": {
            "text/html": [
              "<div>\n",
              "<style scoped>\n",
              "    .dataframe tbody tr th:only-of-type {\n",
              "        vertical-align: middle;\n",
              "    }\n",
              "\n",
              "    .dataframe tbody tr th {\n",
              "        vertical-align: top;\n",
              "    }\n",
              "\n",
              "    .dataframe thead th {\n",
              "        text-align: right;\n",
              "    }\n",
              "</style>\n",
              "<table border=\"1\" class=\"dataframe\">\n",
              "  <thead>\n",
              "    <tr style=\"text-align: right;\">\n",
              "      <th></th>\n",
              "      <th>key_0</th>\n",
              "      <th>name</th>\n",
              "      <th>geometry</th>\n",
              "      <th>Население</th>\n",
              "    </tr>\n",
              "  </thead>\n",
              "  <tbody>\n",
              "    <tr>\n",
              "      <th>0</th>\n",
              "      <td>3792</td>\n",
              "      <td>округ Оккервиль</td>\n",
              "      <td>MULTIPOLYGON (((30.50292 59.92550, 30.50168 59...</td>\n",
              "      <td>42600</td>\n",
              "    </tr>\n",
              "    <tr>\n",
              "      <th>1</th>\n",
              "      <td>3793</td>\n",
              "      <td>округ Правобережный</td>\n",
              "      <td>MULTIPOLYGON (((30.50441 59.93492, 30.50298 59...</td>\n",
              "      <td>61793</td>\n",
              "    </tr>\n",
              "    <tr>\n",
              "      <th>2</th>\n",
              "      <td>3794</td>\n",
              "      <td>Народный округ</td>\n",
              "      <td>MULTIPOLYGON (((30.51638 59.86259, 30.50868 59...</td>\n",
              "      <td>48779</td>\n",
              "    </tr>\n",
              "    <tr>\n",
              "      <th>3</th>\n",
              "      <td>7739</td>\n",
              "      <td>округ Невская застава</td>\n",
              "      <td>MULTIPOLYGON (((30.44403 59.89344, 30.44072 59...</td>\n",
              "      <td>21455</td>\n",
              "    </tr>\n",
              "    <tr>\n",
              "      <th>4</th>\n",
              "      <td>7984</td>\n",
              "      <td>Ивановский округ</td>\n",
              "      <td>MULTIPOLYGON (((30.45286 59.87796, 30.45209 59...</td>\n",
              "      <td>20396</td>\n",
              "    </tr>\n",
              "    <tr>\n",
              "      <th>5</th>\n",
              "      <td>7985</td>\n",
              "      <td>Обуховский округ</td>\n",
              "      <td>MULTIPOLYGON (((30.48088 59.85410, 30.47932 59...</td>\n",
              "      <td>35243</td>\n",
              "    </tr>\n",
              "    <tr>\n",
              "      <th>6</th>\n",
              "      <td>8320</td>\n",
              "      <td>округ Рыбацкое</td>\n",
              "      <td>MULTIPOLYGON (((30.56730 59.82404, 30.56324 59...</td>\n",
              "      <td>46261</td>\n",
              "    </tr>\n",
              "    <tr>\n",
              "      <th>7</th>\n",
              "      <td>10745</td>\n",
              "      <td>округ № 54</td>\n",
              "      <td>MULTIPOLYGON (((30.49893 59.91053, 30.49628 59...</td>\n",
              "      <td>47501</td>\n",
              "    </tr>\n",
              "    <tr>\n",
              "      <th>8</th>\n",
              "      <td>10746</td>\n",
              "      <td>Невский округ</td>\n",
              "      <td>MULTIPOLYGON (((30.48267 59.90672, 30.45963 59...</td>\n",
              "      <td>54741</td>\n",
              "    </tr>\n",
              "  </tbody>\n",
              "</table>\n",
              "</div>"
            ],
            "text/plain": [
              "   key_0  ... Население\n",
              "0   3792  ...     42600\n",
              "1   3793  ...     61793\n",
              "2   3794  ...     48779\n",
              "3   7739  ...     21455\n",
              "4   7984  ...     20396\n",
              "5   7985  ...     35243\n",
              "6   8320  ...     46261\n",
              "7  10745  ...     47501\n",
              "8  10746  ...     54741\n",
              "\n",
              "[9 rows x 4 columns]"
            ]
          },
          "metadata": {
            "tags": []
          },
          "execution_count": 14
        }
      ]
    },
    {
      "cell_type": "markdown",
      "metadata": {
        "id": "9vjZIDYpAeHY",
        "colab_type": "text"
      },
      "source": [
        "# Визуализация количества населения в округах Невского района "
      ]
    },
    {
      "cell_type": "code",
      "metadata": {
        "id": "ntFNww6c1aVG",
        "colab_type": "code",
        "outputId": "45ef410a-e54b-4993-dc74-526ec95f202c",
        "colab": {
          "base_uri": "https://localhost:8080/",
          "height": 482
        }
      },
      "source": [
        "nevsky_nas_map = gpd.GeoDataFrame(nevsky_nas)\n",
        "nevsky_nas_map.plot(column = 'Население',  cmap='summer', legend=True, figsize=[8,8])"
      ],
      "execution_count": 0,
      "outputs": [
        {
          "output_type": "execute_result",
          "data": {
            "text/plain": [
              "<matplotlib.axes._subplots.AxesSubplot at 0x7f495d74b208>"
            ]
          },
          "metadata": {
            "tags": []
          },
          "execution_count": 34
        },
        {
          "output_type": "display_data",
          "data": {
            "image/png": "[encoded data removed]",
            "text/plain": [
              "<Figure size 576x576 with 2 Axes>"
            ]
          },
          "metadata": {
            "tags": []
          }
        }
      ]
    },
    {
      "cell_type": "markdown",
      "metadata": {
        "id": "a1D_Zaq3AqkP",
        "colab_type": "text"
      },
      "source": [
        "Собираем в таблицу данные о победителе в каждом округе, визуализируем на карте."
      ]
    },
    {
      "cell_type": "code",
      "metadata": {
        "id": "dfYmWj56jepm",
        "colab_type": "code",
        "outputId": "6f28f66e-e300-46a5-fcf0-d52673d2c1e7",
        "colab": {
          "base_uri": "https://localhost:8080/",
          "height": 314
        }
      },
      "source": [
        "ind = ['3792', '3793', '3794', '7739', '7984', '7985', '8320', '10745', '10746']\n",
        "nevsky1 = pd.DataFrame(data={'Победитель по округу' :winner_okrug}, index = ind)\n",
        "nevsky_win = pd.merge(nevsky_win, nevsky1, on=nevsky_win.index, how='inner')\n",
        "nevsky_win"
      ],
      "execution_count": 0,
      "outputs": [
        {
          "output_type": "execute_result",
          "data": {
            "text/html": [
              "<div>\n",
              "<style scoped>\n",
              "    .dataframe tbody tr th:only-of-type {\n",
              "        vertical-align: middle;\n",
              "    }\n",
              "\n",
              "    .dataframe tbody tr th {\n",
              "        vertical-align: top;\n",
              "    }\n",
              "\n",
              "    .dataframe thead th {\n",
              "        text-align: right;\n",
              "    }\n",
              "</style>\n",
              "<table border=\"1\" class=\"dataframe\">\n",
              "  <thead>\n",
              "    <tr style=\"text-align: right;\">\n",
              "      <th></th>\n",
              "      <th>key_0</th>\n",
              "      <th>name</th>\n",
              "      <th>geometry</th>\n",
              "      <th>Победитель по округу</th>\n",
              "    </tr>\n",
              "  </thead>\n",
              "  <tbody>\n",
              "    <tr>\n",
              "      <th>0</th>\n",
              "      <td>3792</td>\n",
              "      <td>округ Оккервиль</td>\n",
              "      <td>MULTIPOLYGON (((30.50292 59.92550, 30.50168 59...</td>\n",
              "      <td>Беглов</td>\n",
              "    </tr>\n",
              "    <tr>\n",
              "      <th>1</th>\n",
              "      <td>3793</td>\n",
              "      <td>округ Правобережный</td>\n",
              "      <td>MULTIPOLYGON (((30.50441 59.93492, 30.50298 59...</td>\n",
              "      <td>Беглов</td>\n",
              "    </tr>\n",
              "    <tr>\n",
              "      <th>2</th>\n",
              "      <td>3794</td>\n",
              "      <td>Народный округ</td>\n",
              "      <td>MULTIPOLYGON (((30.51638 59.86259, 30.50868 59...</td>\n",
              "      <td>Беглов</td>\n",
              "    </tr>\n",
              "    <tr>\n",
              "      <th>3</th>\n",
              "      <td>7739</td>\n",
              "      <td>округ Невская застава</td>\n",
              "      <td>MULTIPOLYGON (((30.44403 59.89344, 30.44072 59...</td>\n",
              "      <td>Беглов</td>\n",
              "    </tr>\n",
              "    <tr>\n",
              "      <th>4</th>\n",
              "      <td>7984</td>\n",
              "      <td>Ивановский округ</td>\n",
              "      <td>MULTIPOLYGON (((30.45286 59.87796, 30.45209 59...</td>\n",
              "      <td>Беглов</td>\n",
              "    </tr>\n",
              "    <tr>\n",
              "      <th>5</th>\n",
              "      <td>7985</td>\n",
              "      <td>Обуховский округ</td>\n",
              "      <td>MULTIPOLYGON (((30.48088 59.85410, 30.47932 59...</td>\n",
              "      <td>Беглов</td>\n",
              "    </tr>\n",
              "    <tr>\n",
              "      <th>6</th>\n",
              "      <td>8320</td>\n",
              "      <td>округ Рыбацкое</td>\n",
              "      <td>MULTIPOLYGON (((30.56730 59.82404, 30.56324 59...</td>\n",
              "      <td>Беглов</td>\n",
              "    </tr>\n",
              "    <tr>\n",
              "      <th>7</th>\n",
              "      <td>10745</td>\n",
              "      <td>округ № 54</td>\n",
              "      <td>MULTIPOLYGON (((30.49893 59.91053, 30.49628 59...</td>\n",
              "      <td>Беглов</td>\n",
              "    </tr>\n",
              "    <tr>\n",
              "      <th>8</th>\n",
              "      <td>10746</td>\n",
              "      <td>Невский округ</td>\n",
              "      <td>MULTIPOLYGON (((30.48267 59.90672, 30.45963 59...</td>\n",
              "      <td>Беглов</td>\n",
              "    </tr>\n",
              "  </tbody>\n",
              "</table>\n",
              "</div>"
            ],
            "text/plain": [
              "   key_0  ... Победитель по округу\n",
              "0   3792  ...               Беглов\n",
              "1   3793  ...               Беглов\n",
              "2   3794  ...               Беглов\n",
              "3   7739  ...               Беглов\n",
              "4   7984  ...               Беглов\n",
              "5   7985  ...               Беглов\n",
              "6   8320  ...               Беглов\n",
              "7  10745  ...               Беглов\n",
              "8  10746  ...               Беглов\n",
              "\n",
              "[9 rows x 4 columns]"
            ]
          },
          "metadata": {
            "tags": []
          },
          "execution_count": 16
        }
      ]
    },
    {
      "cell_type": "markdown",
      "metadata": {
        "id": "LtYBTmoKA4-1",
        "colab_type": "text"
      },
      "source": [
        "# Визуализация победителя в округах Невского района на карте"
      ]
    },
    {
      "cell_type": "code",
      "metadata": {
        "id": "tqrOgJDmk5XB",
        "colab_type": "code",
        "outputId": "1027f2ca-49a8-412e-9f79-f9cd09ac3a91",
        "colab": {
          "base_uri": "https://localhost:8080/",
          "height": 346
        }
      },
      "source": [
        "nevsky_win_map = gpd.GeoDataFrame(nevsky_win)\n",
        "nevsky_win_map.plot(column = 'Победитель по округу',  cmap='summer', legend=True, figsize=[8,8])\n"
      ],
      "execution_count": 0,
      "outputs": [
        {
          "output_type": "execute_result",
          "data": {
            "text/plain": [
              "<matplotlib.axes._subplots.AxesSubplot at 0x7f495d7834a8>"
            ]
          },
          "metadata": {
            "tags": []
          },
          "execution_count": 33
        },
        {
          "output_type": "display_data",
          "data": {
            "image/png": "[encoded data removed]",
            "text/plain": [
              "<Figure size 576x576 with 1 Axes>"
            ]
          },
          "metadata": {
            "tags": []
          }
        }
      ]
    },
    {
      "cell_type": "markdown",
      "metadata": {
        "id": "pB3CQ6wwBGlD",
        "colab_type": "text"
      },
      "source": [
        "Соберем таблицу с данными о явке в каждом округе, визуализируем процент явки в каждом округе на карте."
      ]
    },
    {
      "cell_type": "code",
      "metadata": {
        "id": "Xd1LJDSfivLL",
        "colab_type": "code",
        "outputId": "a1ebdb14-2f8b-4dd5-eb02-6f7cd7c91106",
        "colab": {
          "base_uri": "https://localhost:8080/",
          "height": 314
        }
      },
      "source": [
        "ind2 = ['3792', '3793', '3794', '7739', '7984', '7985', '8320', '10745', '10746']\n",
        "nev2 = pd.DataFrame(data={'Явка, %' :nev_procent_appearence}, index = ind2)\n",
        "nevsky = pd.merge(nevsky, nev2, on=nevsky.index, how='inner')\n",
        "nevsky"
      ],
      "execution_count": 0,
      "outputs": [
        {
          "output_type": "execute_result",
          "data": {
            "text/html": [
              "<div>\n",
              "<style scoped>\n",
              "    .dataframe tbody tr th:only-of-type {\n",
              "        vertical-align: middle;\n",
              "    }\n",
              "\n",
              "    .dataframe tbody tr th {\n",
              "        vertical-align: top;\n",
              "    }\n",
              "\n",
              "    .dataframe thead th {\n",
              "        text-align: right;\n",
              "    }\n",
              "</style>\n",
              "<table border=\"1\" class=\"dataframe\">\n",
              "  <thead>\n",
              "    <tr style=\"text-align: right;\">\n",
              "      <th></th>\n",
              "      <th>key_0</th>\n",
              "      <th>name</th>\n",
              "      <th>geometry</th>\n",
              "      <th>Явка, %</th>\n",
              "    </tr>\n",
              "  </thead>\n",
              "  <tbody>\n",
              "    <tr>\n",
              "      <th>0</th>\n",
              "      <td>3792</td>\n",
              "      <td>округ Оккервиль</td>\n",
              "      <td>MULTIPOLYGON (((30.50292 59.92550, 30.50168 59...</td>\n",
              "      <td>27</td>\n",
              "    </tr>\n",
              "    <tr>\n",
              "      <th>1</th>\n",
              "      <td>3793</td>\n",
              "      <td>округ Правобережный</td>\n",
              "      <td>MULTIPOLYGON (((30.50441 59.93492, 30.50298 59...</td>\n",
              "      <td>29</td>\n",
              "    </tr>\n",
              "    <tr>\n",
              "      <th>2</th>\n",
              "      <td>3794</td>\n",
              "      <td>Народный округ</td>\n",
              "      <td>MULTIPOLYGON (((30.51638 59.86259, 30.50868 59...</td>\n",
              "      <td>24</td>\n",
              "    </tr>\n",
              "    <tr>\n",
              "      <th>3</th>\n",
              "      <td>7739</td>\n",
              "      <td>округ Невская застава</td>\n",
              "      <td>MULTIPOLYGON (((30.44403 59.89344, 30.44072 59...</td>\n",
              "      <td>27</td>\n",
              "    </tr>\n",
              "    <tr>\n",
              "      <th>4</th>\n",
              "      <td>7984</td>\n",
              "      <td>Ивановский округ</td>\n",
              "      <td>MULTIPOLYGON (((30.45286 59.87796, 30.45209 59...</td>\n",
              "      <td>26</td>\n",
              "    </tr>\n",
              "    <tr>\n",
              "      <th>5</th>\n",
              "      <td>7985</td>\n",
              "      <td>Обуховский округ</td>\n",
              "      <td>MULTIPOLYGON (((30.48088 59.85410, 30.47932 59...</td>\n",
              "      <td>24</td>\n",
              "    </tr>\n",
              "    <tr>\n",
              "      <th>6</th>\n",
              "      <td>8320</td>\n",
              "      <td>округ Рыбацкое</td>\n",
              "      <td>MULTIPOLYGON (((30.56730 59.82404, 30.56324 59...</td>\n",
              "      <td>25</td>\n",
              "    </tr>\n",
              "    <tr>\n",
              "      <th>7</th>\n",
              "      <td>10745</td>\n",
              "      <td>округ № 54</td>\n",
              "      <td>MULTIPOLYGON (((30.49893 59.91053, 30.49628 59...</td>\n",
              "      <td>25</td>\n",
              "    </tr>\n",
              "    <tr>\n",
              "      <th>8</th>\n",
              "      <td>10746</td>\n",
              "      <td>Невский округ</td>\n",
              "      <td>MULTIPOLYGON (((30.48267 59.90672, 30.45963 59...</td>\n",
              "      <td>30</td>\n",
              "    </tr>\n",
              "  </tbody>\n",
              "</table>\n",
              "</div>"
            ],
            "text/plain": [
              "   key_0  ... Явка, %\n",
              "0   3792  ...      27\n",
              "1   3793  ...      29\n",
              "2   3794  ...      24\n",
              "3   7739  ...      27\n",
              "4   7984  ...      26\n",
              "5   7985  ...      24\n",
              "6   8320  ...      25\n",
              "7  10745  ...      25\n",
              "8  10746  ...      30\n",
              "\n",
              "[9 rows x 4 columns]"
            ]
          },
          "metadata": {
            "tags": []
          },
          "execution_count": 19
        }
      ]
    },
    {
      "cell_type": "markdown",
      "metadata": {
        "id": "5D-eFCgJBd2S",
        "colab_type": "text"
      },
      "source": [
        "# Визуализация процента явки избирателей в округах Невского района на карте:"
      ]
    },
    {
      "cell_type": "code",
      "metadata": {
        "id": "KVvdalWUcyFG",
        "colab_type": "code",
        "outputId": "53a47fc0-75a7-4447-aea6-968f0596feb6",
        "colab": {
          "base_uri": "https://localhost:8080/",
          "height": 493
        }
      },
      "source": [
        "nevsky_map1 = gpd.GeoDataFrame(nevsky)\n",
        "nevsky_map1.plot(column = 'Явка, %',  cmap='summer', legend=True, figsize=[8,8])"
      ],
      "execution_count": 0,
      "outputs": [
        {
          "output_type": "execute_result",
          "data": {
            "text/plain": [
              "<matplotlib.axes._subplots.AxesSubplot at 0x7f495d707860>"
            ]
          },
          "metadata": {
            "tags": []
          },
          "execution_count": 36
        },
        {
          "output_type": "display_data",
          "data": {
            "image/png": "[encoded data removed]",
            "text/plain": [
              "<Figure size 576x576 with 2 Axes>"
            ]
          },
          "metadata": {
            "tags": []
          }
        }
      ]
    }
  ]
}